{
 "cells": [
  {
   "cell_type": "code",
   "execution_count": 7,
   "id": "9df53830",
   "metadata": {},
   "outputs": [],
   "source": [
    "import pandas as pd\n",
    "\n",
    "df = pd.read_csv(r\"C:\\Users\\Monster\\Desktop\\CBS_CALISMALARI\\getir_case_study\\data\\raw\\siparis.csv\")\n",
    "df2= pd.read_csv(r\"C:\\Users\\Monster\\Desktop\\CBS_CALISMALARI\\getir_case_study\\data\\raw\\warehouse.csv\")"
   ]
  },
  {
   "cell_type": "code",
   "execution_count": 8,
   "id": "9d870f24",
   "metadata": {},
   "outputs": [
    {
     "data": {
      "text/html": [
       "<div>\n",
       "<style scoped>\n",
       "    .dataframe tbody tr th:only-of-type {\n",
       "        vertical-align: middle;\n",
       "    }\n",
       "\n",
       "    .dataframe tbody tr th {\n",
       "        vertical-align: top;\n",
       "    }\n",
       "\n",
       "    .dataframe thead th {\n",
       "        text-align: right;\n",
       "    }\n",
       "</style>\n",
       "<table border=\"1\" class=\"dataframe\">\n",
       "  <thead>\n",
       "    <tr style=\"text-align: right;\">\n",
       "      <th></th>\n",
       "      <th>fid</th>\n",
       "      <th>order_id</th>\n",
       "      <th>latitude</th>\n",
       "      <th>longitude</th>\n",
       "      <th>basket_value</th>\n",
       "      <th>delivery duration</th>\n",
       "      <th>profit</th>\n",
       "      <th>revenue</th>\n",
       "      <th>client_id</th>\n",
       "    </tr>\n",
       "  </thead>\n",
       "  <tbody>\n",
       "    <tr>\n",
       "      <th>0</th>\n",
       "      <td>0</td>\n",
       "      <td>81512055</td>\n",
       "      <td>40.186535</td>\n",
       "      <td>29.095203</td>\n",
       "      <td>637.6238</td>\n",
       "      <td>22.016667</td>\n",
       "      <td>-149.4062</td>\n",
       "      <td>344.3338</td>\n",
       "      <td>client_79144640</td>\n",
       "    </tr>\n",
       "    <tr>\n",
       "      <th>1</th>\n",
       "      <td>1</td>\n",
       "      <td>22267042</td>\n",
       "      <td>40.234744</td>\n",
       "      <td>28.836608</td>\n",
       "      <td>373.0099</td>\n",
       "      <td>9.966667</td>\n",
       "      <td>-17.7624</td>\n",
       "      <td>200.3235</td>\n",
       "      <td>client_24816618</td>\n",
       "    </tr>\n",
       "    <tr>\n",
       "      <th>2</th>\n",
       "      <td>2</td>\n",
       "      <td>88017435</td>\n",
       "      <td>40.217676</td>\n",
       "      <td>28.903509</td>\n",
       "      <td>837.5562</td>\n",
       "      <td>7.783333</td>\n",
       "      <td>-30.7442</td>\n",
       "      <td>432.8338</td>\n",
       "      <td>client_16797643</td>\n",
       "    </tr>\n",
       "    <tr>\n",
       "      <th>3</th>\n",
       "      <td>3</td>\n",
       "      <td>72989589</td>\n",
       "      <td>40.218052</td>\n",
       "      <td>28.945997</td>\n",
       "      <td>819.1121</td>\n",
       "      <td>15.466667</td>\n",
       "      <td>-86.2728</td>\n",
       "      <td>435.2127</td>\n",
       "      <td>client_78716540</td>\n",
       "    </tr>\n",
       "    <tr>\n",
       "      <th>4</th>\n",
       "      <td>4</td>\n",
       "      <td>42175004</td>\n",
       "      <td>40.194676</td>\n",
       "      <td>28.988171</td>\n",
       "      <td>187.6337</td>\n",
       "      <td>27.016667</td>\n",
       "      <td>88.7932</td>\n",
       "      <td>221.4132</td>\n",
       "      <td>client_84428508</td>\n",
       "    </tr>\n",
       "  </tbody>\n",
       "</table>\n",
       "</div>"
      ],
      "text/plain": [
       "   fid  order_id   latitude  longitude  basket_value  delivery duration  \\\n",
       "0    0  81512055  40.186535  29.095203      637.6238          22.016667   \n",
       "1    1  22267042  40.234744  28.836608      373.0099           9.966667   \n",
       "2    2  88017435  40.217676  28.903509      837.5562           7.783333   \n",
       "3    3  72989589  40.218052  28.945997      819.1121          15.466667   \n",
       "4    4  42175004  40.194676  28.988171      187.6337          27.016667   \n",
       "\n",
       "     profit   revenue        client_id  \n",
       "0 -149.4062  344.3338  client_79144640  \n",
       "1  -17.7624  200.3235  client_24816618  \n",
       "2  -30.7442  432.8338  client_16797643  \n",
       "3  -86.2728  435.2127  client_78716540  \n",
       "4   88.7932  221.4132  client_84428508  "
      ]
     },
     "execution_count": 8,
     "metadata": {},
     "output_type": "execute_result"
    }
   ],
   "source": [
    "df.head()"
   ]
  },
  {
   "cell_type": "code",
   "execution_count": 9,
   "id": "02e7292a",
   "metadata": {},
   "outputs": [
    {
     "data": {
      "text/html": [
       "<div>\n",
       "<style scoped>\n",
       "    .dataframe tbody tr th:only-of-type {\n",
       "        vertical-align: middle;\n",
       "    }\n",
       "\n",
       "    .dataframe tbody tr th {\n",
       "        vertical-align: top;\n",
       "    }\n",
       "\n",
       "    .dataframe thead th {\n",
       "        text-align: right;\n",
       "    }\n",
       "</style>\n",
       "<table border=\"1\" class=\"dataframe\">\n",
       "  <thead>\n",
       "    <tr style=\"text-align: right;\">\n",
       "      <th></th>\n",
       "      <th>fid</th>\n",
       "      <th>City_Name</th>\n",
       "      <th>Warehouse1</th>\n",
       "      <th>Longitude</th>\n",
       "      <th>Latitude</th>\n",
       "    </tr>\n",
       "  </thead>\n",
       "  <tbody>\n",
       "    <tr>\n",
       "      <th>0</th>\n",
       "      <td>0</td>\n",
       "      <td>Bursa</td>\n",
       "      <td>wh_1</td>\n",
       "      <td>28.913683</td>\n",
       "      <td>40.223470</td>\n",
       "    </tr>\n",
       "    <tr>\n",
       "      <th>1</th>\n",
       "      <td>1</td>\n",
       "      <td>Bursa</td>\n",
       "      <td>wh_2</td>\n",
       "      <td>29.009756</td>\n",
       "      <td>40.199254</td>\n",
       "    </tr>\n",
       "    <tr>\n",
       "      <th>2</th>\n",
       "      <td>2</td>\n",
       "      <td>Bursa</td>\n",
       "      <td>wh_3</td>\n",
       "      <td>28.969918</td>\n",
       "      <td>40.220589</td>\n",
       "    </tr>\n",
       "    <tr>\n",
       "      <th>3</th>\n",
       "      <td>3</td>\n",
       "      <td>Bursa</td>\n",
       "      <td>wh_4</td>\n",
       "      <td>29.057349</td>\n",
       "      <td>40.187396</td>\n",
       "    </tr>\n",
       "    <tr>\n",
       "      <th>4</th>\n",
       "      <td>4</td>\n",
       "      <td>Bursa</td>\n",
       "      <td>wh_5</td>\n",
       "      <td>28.953623</td>\n",
       "      <td>40.262806</td>\n",
       "    </tr>\n",
       "  </tbody>\n",
       "</table>\n",
       "</div>"
      ],
      "text/plain": [
       "   fid City_Name Warehouse1  Longitude   Latitude\n",
       "0    0     Bursa       wh_1  28.913683  40.223470\n",
       "1    1     Bursa       wh_2  29.009756  40.199254\n",
       "2    2     Bursa       wh_3  28.969918  40.220589\n",
       "3    3     Bursa       wh_4  29.057349  40.187396\n",
       "4    4     Bursa       wh_5  28.953623  40.262806"
      ]
     },
     "execution_count": 9,
     "metadata": {},
     "output_type": "execute_result"
    }
   ],
   "source": [
    "df2.head()"
   ]
  },
  {
   "cell_type": "code",
   "execution_count": 10,
   "id": "2002b3b3",
   "metadata": {},
   "outputs": [
    {
     "data": {
      "text/plain": [
       "True"
      ]
     },
     "execution_count": 10,
     "metadata": {},
     "output_type": "execute_result"
    }
   ],
   "source": [
    "df['order_id'].nunique()== df.shape[0]"
   ]
  },
  {
   "cell_type": "code",
   "execution_count": 16,
   "id": "b74e5429",
   "metadata": {},
   "outputs": [
    {
     "data": {
      "text/plain": [
       "latitude     float64\n",
       "longitude    float64\n",
       "dtype: object"
      ]
     },
     "execution_count": 16,
     "metadata": {},
     "output_type": "execute_result"
    }
   ],
   "source": [
    "df[['latitude', 'longitude']].dtypes"
   ]
  },
  {
   "cell_type": "code",
   "execution_count": 18,
   "id": "62190110",
   "metadata": {},
   "outputs": [
    {
     "data": {
      "text/plain": [
       "Latitude     float64\n",
       "Longitude    float64\n",
       "dtype: object"
      ]
     },
     "execution_count": 18,
     "metadata": {},
     "output_type": "execute_result"
    }
   ],
   "source": [
    "df2[['Latitude', 'Longitude']].dtypes"
   ]
  },
  {
   "cell_type": "code",
   "execution_count": 12,
   "id": "37276405",
   "metadata": {},
   "outputs": [
    {
     "data": {
      "text/plain": [
       "latitude     40.168411\n",
       "longitude    28.801976\n",
       "dtype: float64"
      ]
     },
     "execution_count": 12,
     "metadata": {},
     "output_type": "execute_result"
    }
   ],
   "source": [
    "df[['latitude', 'longitude']].min()"
   ]
  },
  {
   "cell_type": "code",
   "execution_count": 13,
   "id": "09631351",
   "metadata": {},
   "outputs": [
    {
     "data": {
      "text/plain": [
       "latitude     40.275265\n",
       "longitude    29.149295\n",
       "dtype: float64"
      ]
     },
     "execution_count": 13,
     "metadata": {},
     "output_type": "execute_result"
    }
   ],
   "source": [
    "df[['latitude', 'longitude']].max()"
   ]
  },
  {
   "cell_type": "code",
   "execution_count": 14,
   "id": "473c1e5e",
   "metadata": {},
   "outputs": [
    {
     "data": {
      "text/plain": [
       "Latitude     40.184361\n",
       "Longitude    28.839262\n",
       "dtype: float64"
      ]
     },
     "execution_count": 14,
     "metadata": {},
     "output_type": "execute_result"
    }
   ],
   "source": [
    "df2[['Latitude', 'Longitude']].min()"
   ]
  },
  {
   "cell_type": "code",
   "execution_count": 15,
   "id": "aed89778",
   "metadata": {},
   "outputs": [
    {
     "data": {
      "text/plain": [
       "Latitude     40.262806\n",
       "Longitude    29.098166\n",
       "dtype: float64"
      ]
     },
     "execution_count": 15,
     "metadata": {},
     "output_type": "execute_result"
    }
   ],
   "source": [
    "df2[['Latitude', 'Longitude']].max()"
   ]
  },
  {
   "cell_type": "code",
   "execution_count": 19,
   "id": "9b8e2cc7",
   "metadata": {},
   "outputs": [
    {
     "data": {
      "text/plain": [
       "latitude     0\n",
       "longitude    0\n",
       "dtype: int64"
      ]
     },
     "execution_count": 19,
     "metadata": {},
     "output_type": "execute_result"
    }
   ],
   "source": [
    "df[['latitude', 'longitude']].isnull().sum()"
   ]
  },
  {
   "cell_type": "code",
   "execution_count": 21,
   "id": "3227939e",
   "metadata": {},
   "outputs": [
    {
     "data": {
      "text/plain": [
       "Latitude     0\n",
       "Longitude    0\n",
       "dtype: int64"
      ]
     },
     "execution_count": 21,
     "metadata": {},
     "output_type": "execute_result"
    }
   ],
   "source": [
    "df2[['Latitude', 'Longitude']].isnull().sum()"
   ]
  },
  {
   "cell_type": "code",
   "execution_count": 22,
   "id": "ceb78a0e",
   "metadata": {},
   "outputs": [
    {
     "name": "stdout",
     "output_type": "stream",
     "text": [
      "<class 'pandas.core.frame.DataFrame'>\n",
      "RangeIndex: 26222 entries, 0 to 26221\n",
      "Data columns (total 9 columns):\n",
      " #   Column             Non-Null Count  Dtype  \n",
      "---  ------             --------------  -----  \n",
      " 0   fid                26222 non-null  int64  \n",
      " 1   order_id           26222 non-null  int64  \n",
      " 2   latitude           26222 non-null  float64\n",
      " 3   longitude          26222 non-null  float64\n",
      " 4   basket_value       26222 non-null  float64\n",
      " 5   delivery duration  26222 non-null  float64\n",
      " 6   profit             26222 non-null  float64\n",
      " 7   revenue            26222 non-null  float64\n",
      " 8   client_id          26222 non-null  object \n",
      "dtypes: float64(6), int64(2), object(1)\n",
      "memory usage: 1.8+ MB\n"
     ]
    }
   ],
   "source": [
    "df.info()"
   ]
  },
  {
   "cell_type": "code",
   "execution_count": 23,
   "id": "7019f84f",
   "metadata": {},
   "outputs": [
    {
     "name": "stdout",
     "output_type": "stream",
     "text": [
      "<class 'pandas.core.frame.DataFrame'>\n",
      "RangeIndex: 9 entries, 0 to 8\n",
      "Data columns (total 5 columns):\n",
      " #   Column      Non-Null Count  Dtype  \n",
      "---  ------      --------------  -----  \n",
      " 0   fid         9 non-null      int64  \n",
      " 1   City_Name   9 non-null      object \n",
      " 2   Warehouse1  9 non-null      object \n",
      " 3   Longitude   9 non-null      float64\n",
      " 4   Latitude    9 non-null      float64\n",
      "dtypes: float64(2), int64(1), object(2)\n",
      "memory usage: 492.0+ bytes\n"
     ]
    }
   ],
   "source": [
    "df2.info()"
   ]
  },
  {
   "cell_type": "code",
   "execution_count": 24,
   "id": "9615e8a4",
   "metadata": {},
   "outputs": [],
   "source": [
    "import geopandas as gpd \n",
    "\n",
    "gdf = gpd.GeoDataFrame(df, geometry=gpd.points_from_xy(df[\"longitude\"],df[\"latitude\"]), crs=\"EPSG:4326\")\n",
    "gdf2 = gpd.GeoDataFrame(df2, geometry=gpd.points_from_xy(df2[\"Longitude\"],df2[\"Latitude\"]),crs=\"EPSG:4326\")"
   ]
  },
  {
   "cell_type": "code",
   "execution_count": 25,
   "id": "c13c7c06",
   "metadata": {},
   "outputs": [
    {
     "data": {
      "text/html": [
       "<div>\n",
       "<style scoped>\n",
       "    .dataframe tbody tr th:only-of-type {\n",
       "        vertical-align: middle;\n",
       "    }\n",
       "\n",
       "    .dataframe tbody tr th {\n",
       "        vertical-align: top;\n",
       "    }\n",
       "\n",
       "    .dataframe thead th {\n",
       "        text-align: right;\n",
       "    }\n",
       "</style>\n",
       "<table border=\"1\" class=\"dataframe\">\n",
       "  <thead>\n",
       "    <tr style=\"text-align: right;\">\n",
       "      <th></th>\n",
       "      <th>fid</th>\n",
       "      <th>order_id</th>\n",
       "      <th>latitude</th>\n",
       "      <th>longitude</th>\n",
       "      <th>basket_value</th>\n",
       "      <th>delivery duration</th>\n",
       "      <th>profit</th>\n",
       "      <th>revenue</th>\n",
       "      <th>client_id</th>\n",
       "      <th>geometry</th>\n",
       "    </tr>\n",
       "  </thead>\n",
       "  <tbody>\n",
       "    <tr>\n",
       "      <th>0</th>\n",
       "      <td>0</td>\n",
       "      <td>81512055</td>\n",
       "      <td>40.186535</td>\n",
       "      <td>29.095203</td>\n",
       "      <td>637.6238</td>\n",
       "      <td>22.016667</td>\n",
       "      <td>-149.4062</td>\n",
       "      <td>344.3338</td>\n",
       "      <td>client_79144640</td>\n",
       "      <td>POINT (29.0952 40.18653)</td>\n",
       "    </tr>\n",
       "    <tr>\n",
       "      <th>1</th>\n",
       "      <td>1</td>\n",
       "      <td>22267042</td>\n",
       "      <td>40.234744</td>\n",
       "      <td>28.836608</td>\n",
       "      <td>373.0099</td>\n",
       "      <td>9.966667</td>\n",
       "      <td>-17.7624</td>\n",
       "      <td>200.3235</td>\n",
       "      <td>client_24816618</td>\n",
       "      <td>POINT (28.83661 40.23474)</td>\n",
       "    </tr>\n",
       "    <tr>\n",
       "      <th>2</th>\n",
       "      <td>2</td>\n",
       "      <td>88017435</td>\n",
       "      <td>40.217676</td>\n",
       "      <td>28.903509</td>\n",
       "      <td>837.5562</td>\n",
       "      <td>7.783333</td>\n",
       "      <td>-30.7442</td>\n",
       "      <td>432.8338</td>\n",
       "      <td>client_16797643</td>\n",
       "      <td>POINT (28.90351 40.21768)</td>\n",
       "    </tr>\n",
       "    <tr>\n",
       "      <th>3</th>\n",
       "      <td>3</td>\n",
       "      <td>72989589</td>\n",
       "      <td>40.218052</td>\n",
       "      <td>28.945997</td>\n",
       "      <td>819.1121</td>\n",
       "      <td>15.466667</td>\n",
       "      <td>-86.2728</td>\n",
       "      <td>435.2127</td>\n",
       "      <td>client_78716540</td>\n",
       "      <td>POINT (28.946 40.21805)</td>\n",
       "    </tr>\n",
       "    <tr>\n",
       "      <th>4</th>\n",
       "      <td>4</td>\n",
       "      <td>42175004</td>\n",
       "      <td>40.194676</td>\n",
       "      <td>28.988171</td>\n",
       "      <td>187.6337</td>\n",
       "      <td>27.016667</td>\n",
       "      <td>88.7932</td>\n",
       "      <td>221.4132</td>\n",
       "      <td>client_84428508</td>\n",
       "      <td>POINT (28.98817 40.19468)</td>\n",
       "    </tr>\n",
       "  </tbody>\n",
       "</table>\n",
       "</div>"
      ],
      "text/plain": [
       "   fid  order_id   latitude  longitude  basket_value  delivery duration  \\\n",
       "0    0  81512055  40.186535  29.095203      637.6238          22.016667   \n",
       "1    1  22267042  40.234744  28.836608      373.0099           9.966667   \n",
       "2    2  88017435  40.217676  28.903509      837.5562           7.783333   \n",
       "3    3  72989589  40.218052  28.945997      819.1121          15.466667   \n",
       "4    4  42175004  40.194676  28.988171      187.6337          27.016667   \n",
       "\n",
       "     profit   revenue        client_id                   geometry  \n",
       "0 -149.4062  344.3338  client_79144640   POINT (29.0952 40.18653)  \n",
       "1  -17.7624  200.3235  client_24816618  POINT (28.83661 40.23474)  \n",
       "2  -30.7442  432.8338  client_16797643  POINT (28.90351 40.21768)  \n",
       "3  -86.2728  435.2127  client_78716540    POINT (28.946 40.21805)  \n",
       "4   88.7932  221.4132  client_84428508  POINT (28.98817 40.19468)  "
      ]
     },
     "execution_count": 25,
     "metadata": {},
     "output_type": "execute_result"
    }
   ],
   "source": [
    "gdf.head()"
   ]
  },
  {
   "cell_type": "code",
   "execution_count": 26,
   "id": "fcac8fe3",
   "metadata": {},
   "outputs": [
    {
     "data": {
      "text/html": [
       "<div>\n",
       "<style scoped>\n",
       "    .dataframe tbody tr th:only-of-type {\n",
       "        vertical-align: middle;\n",
       "    }\n",
       "\n",
       "    .dataframe tbody tr th {\n",
       "        vertical-align: top;\n",
       "    }\n",
       "\n",
       "    .dataframe thead th {\n",
       "        text-align: right;\n",
       "    }\n",
       "</style>\n",
       "<table border=\"1\" class=\"dataframe\">\n",
       "  <thead>\n",
       "    <tr style=\"text-align: right;\">\n",
       "      <th></th>\n",
       "      <th>fid</th>\n",
       "      <th>City_Name</th>\n",
       "      <th>Warehouse1</th>\n",
       "      <th>Longitude</th>\n",
       "      <th>Latitude</th>\n",
       "      <th>geometry</th>\n",
       "    </tr>\n",
       "  </thead>\n",
       "  <tbody>\n",
       "    <tr>\n",
       "      <th>0</th>\n",
       "      <td>0</td>\n",
       "      <td>Bursa</td>\n",
       "      <td>wh_1</td>\n",
       "      <td>28.913683</td>\n",
       "      <td>40.223470</td>\n",
       "      <td>POINT (28.91368 40.22347)</td>\n",
       "    </tr>\n",
       "    <tr>\n",
       "      <th>1</th>\n",
       "      <td>1</td>\n",
       "      <td>Bursa</td>\n",
       "      <td>wh_2</td>\n",
       "      <td>29.009756</td>\n",
       "      <td>40.199254</td>\n",
       "      <td>POINT (29.00976 40.19925)</td>\n",
       "    </tr>\n",
       "    <tr>\n",
       "      <th>2</th>\n",
       "      <td>2</td>\n",
       "      <td>Bursa</td>\n",
       "      <td>wh_3</td>\n",
       "      <td>28.969918</td>\n",
       "      <td>40.220589</td>\n",
       "      <td>POINT (28.96992 40.22059)</td>\n",
       "    </tr>\n",
       "    <tr>\n",
       "      <th>3</th>\n",
       "      <td>3</td>\n",
       "      <td>Bursa</td>\n",
       "      <td>wh_4</td>\n",
       "      <td>29.057349</td>\n",
       "      <td>40.187396</td>\n",
       "      <td>POINT (29.05735 40.1874)</td>\n",
       "    </tr>\n",
       "    <tr>\n",
       "      <th>4</th>\n",
       "      <td>4</td>\n",
       "      <td>Bursa</td>\n",
       "      <td>wh_5</td>\n",
       "      <td>28.953623</td>\n",
       "      <td>40.262806</td>\n",
       "      <td>POINT (28.95362 40.26281)</td>\n",
       "    </tr>\n",
       "  </tbody>\n",
       "</table>\n",
       "</div>"
      ],
      "text/plain": [
       "   fid City_Name Warehouse1  Longitude   Latitude                   geometry\n",
       "0    0     Bursa       wh_1  28.913683  40.223470  POINT (28.91368 40.22347)\n",
       "1    1     Bursa       wh_2  29.009756  40.199254  POINT (29.00976 40.19925)\n",
       "2    2     Bursa       wh_3  28.969918  40.220589  POINT (28.96992 40.22059)\n",
       "3    3     Bursa       wh_4  29.057349  40.187396   POINT (29.05735 40.1874)\n",
       "4    4     Bursa       wh_5  28.953623  40.262806  POINT (28.95362 40.26281)"
      ]
     },
     "execution_count": 26,
     "metadata": {},
     "output_type": "execute_result"
    }
   ],
   "source": [
    "gdf2.head()"
   ]
  },
  {
   "cell_type": "code",
   "execution_count": 29,
   "id": "53cf31f6",
   "metadata": {},
   "outputs": [],
   "source": [
    "import os\n",
    "from dotenv import load_dotenv\n",
    "\n",
    "load_dotenv()\n",
    "db_url = os.getenv(\"DB_URL\")"
   ]
  },
  {
   "cell_type": "code",
   "execution_count": 30,
   "id": "abf2fc49",
   "metadata": {},
   "outputs": [],
   "source": [
    "from sqlalchemy import create_engine \n",
    "engine = create_engine(db_url)\n",
    "gdf.to_postgis(\"siparis\", engine, if_exists=\"replace\", index=False)"
   ]
  },
  {
   "cell_type": "code",
   "execution_count": 31,
   "id": "1e21fcd6",
   "metadata": {},
   "outputs": [],
   "source": [
    "gdf2.to_postgis(\"warehouse\", engine, if_exists=\"replace\", index=False)"
   ]
  }
 ],
 "metadata": {
  "kernelspec": {
   "display_name": "Python 3",
   "language": "python",
   "name": "python3"
  },
  "language_info": {
   "codemirror_mode": {
    "name": "ipython",
    "version": 3
   },
   "file_extension": ".py",
   "mimetype": "text/x-python",
   "name": "python",
   "nbconvert_exporter": "python",
   "pygments_lexer": "ipython3",
   "version": "3.12.8"
  }
 },
 "nbformat": 4,
 "nbformat_minor": 5
}
